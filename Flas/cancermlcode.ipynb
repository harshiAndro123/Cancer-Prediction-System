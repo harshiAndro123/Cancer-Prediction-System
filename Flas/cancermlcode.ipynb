{
 "cells": [
  {
   "cell_type": "markdown",
   "id": "ceefa4bc",
   "metadata": {},
   "source": [
    "# Cancer Prediction System"
   ]
  },
  {
   "cell_type": "markdown",
   "id": "c49e0a92",
   "metadata": {},
   "source": [
    "# Accessing of the Libraries"
   ]
  },
  {
   "cell_type": "code",
   "execution_count": 1,
   "id": "da46e120",
   "metadata": {},
   "outputs": [],
   "source": [
    "import pandas as pd\n",
    "import numpy as np\n",
    "import seaborn as sns\n",
    "import sklearn as sk\n",
    "import matplotlib.pyplot as plt"
   ]
  },
  {
   "cell_type": "markdown",
   "id": "8a68ae6d",
   "metadata": {},
   "source": [
    "# Reading of the csv file"
   ]
  },
  {
   "cell_type": "code",
   "execution_count": 2,
   "id": "83532dd5",
   "metadata": {},
   "outputs": [],
   "source": [
    "cancer=pd.read_csv(r\"C:\\Users\\Harshini\\Desktop\\internship\\edunet\\project\\Cancerdataset.csv\")"
   ]
  },
  {
   "cell_type": "markdown",
   "id": "6339218c",
   "metadata": {},
   "source": [
    "# Data Exploration "
   ]
  },
  {
   "cell_type": "code",
   "execution_count": 3,
   "id": "b77c2cb5",
   "metadata": {},
   "outputs": [
    {
     "data": {
      "text/html": [
       "<div>\n",
       "<style scoped>\n",
       "    .dataframe tbody tr th:only-of-type {\n",
       "        vertical-align: middle;\n",
       "    }\n",
       "\n",
       "    .dataframe tbody tr th {\n",
       "        vertical-align: top;\n",
       "    }\n",
       "\n",
       "    .dataframe thead th {\n",
       "        text-align: right;\n",
       "    }\n",
       "</style>\n",
       "<table border=\"1\" class=\"dataframe\">\n",
       "  <thead>\n",
       "    <tr style=\"text-align: right;\">\n",
       "      <th></th>\n",
       "      <th>Age</th>\n",
       "      <th>Gender</th>\n",
       "      <th>BMI</th>\n",
       "      <th>Smoking</th>\n",
       "      <th>GeneticRisk</th>\n",
       "      <th>PhysicalActivity</th>\n",
       "      <th>AlcoholIntake</th>\n",
       "      <th>CancerHistory</th>\n",
       "      <th>Diagnosis</th>\n",
       "    </tr>\n",
       "  </thead>\n",
       "  <tbody>\n",
       "    <tr>\n",
       "      <th>0</th>\n",
       "      <td>58</td>\n",
       "      <td>1</td>\n",
       "      <td>16</td>\n",
       "      <td>0</td>\n",
       "      <td>1</td>\n",
       "      <td>8</td>\n",
       "      <td>4</td>\n",
       "      <td>1</td>\n",
       "      <td>1</td>\n",
       "    </tr>\n",
       "    <tr>\n",
       "      <th>1</th>\n",
       "      <td>71</td>\n",
       "      <td>0</td>\n",
       "      <td>31</td>\n",
       "      <td>0</td>\n",
       "      <td>1</td>\n",
       "      <td>9</td>\n",
       "      <td>4</td>\n",
       "      <td>0</td>\n",
       "      <td>0</td>\n",
       "    </tr>\n",
       "    <tr>\n",
       "      <th>2</th>\n",
       "      <td>48</td>\n",
       "      <td>1</td>\n",
       "      <td>39</td>\n",
       "      <td>0</td>\n",
       "      <td>2</td>\n",
       "      <td>5</td>\n",
       "      <td>5</td>\n",
       "      <td>0</td>\n",
       "      <td>1</td>\n",
       "    </tr>\n",
       "    <tr>\n",
       "      <th>3</th>\n",
       "      <td>34</td>\n",
       "      <td>0</td>\n",
       "      <td>30</td>\n",
       "      <td>0</td>\n",
       "      <td>0</td>\n",
       "      <td>10</td>\n",
       "      <td>2</td>\n",
       "      <td>0</td>\n",
       "      <td>0</td>\n",
       "    </tr>\n",
       "    <tr>\n",
       "      <th>4</th>\n",
       "      <td>62</td>\n",
       "      <td>1</td>\n",
       "      <td>35</td>\n",
       "      <td>0</td>\n",
       "      <td>0</td>\n",
       "      <td>5</td>\n",
       "      <td>3</td>\n",
       "      <td>0</td>\n",
       "      <td>1</td>\n",
       "    </tr>\n",
       "  </tbody>\n",
       "</table>\n",
       "</div>"
      ],
      "text/plain": [
       "   Age  Gender  BMI  Smoking  GeneticRisk  PhysicalActivity  AlcoholIntake  \\\n",
       "0   58       1   16        0            1                 8              4   \n",
       "1   71       0   31        0            1                 9              4   \n",
       "2   48       1   39        0            2                 5              5   \n",
       "3   34       0   30        0            0                10              2   \n",
       "4   62       1   35        0            0                 5              3   \n",
       "\n",
       "   CancerHistory  Diagnosis  \n",
       "0              1          1  \n",
       "1              0          0  \n",
       "2              0          1  \n",
       "3              0          0  \n",
       "4              0          1  "
      ]
     },
     "execution_count": 3,
     "metadata": {},
     "output_type": "execute_result"
    }
   ],
   "source": [
    "cancer.head()"
   ]
  },
  {
   "cell_type": "code",
   "execution_count": 4,
   "id": "7b252381",
   "metadata": {},
   "outputs": [
    {
     "data": {
      "text/html": [
       "<div>\n",
       "<style scoped>\n",
       "    .dataframe tbody tr th:only-of-type {\n",
       "        vertical-align: middle;\n",
       "    }\n",
       "\n",
       "    .dataframe tbody tr th {\n",
       "        vertical-align: top;\n",
       "    }\n",
       "\n",
       "    .dataframe thead th {\n",
       "        text-align: right;\n",
       "    }\n",
       "</style>\n",
       "<table border=\"1\" class=\"dataframe\">\n",
       "  <thead>\n",
       "    <tr style=\"text-align: right;\">\n",
       "      <th></th>\n",
       "      <th>Age</th>\n",
       "      <th>Gender</th>\n",
       "      <th>BMI</th>\n",
       "      <th>Smoking</th>\n",
       "      <th>GeneticRisk</th>\n",
       "      <th>PhysicalActivity</th>\n",
       "      <th>AlcoholIntake</th>\n",
       "      <th>CancerHistory</th>\n",
       "      <th>Diagnosis</th>\n",
       "    </tr>\n",
       "  </thead>\n",
       "  <tbody>\n",
       "    <tr>\n",
       "      <th>1495</th>\n",
       "      <td>62</td>\n",
       "      <td>1</td>\n",
       "      <td>25</td>\n",
       "      <td>0</td>\n",
       "      <td>0</td>\n",
       "      <td>10</td>\n",
       "      <td>1</td>\n",
       "      <td>0</td>\n",
       "      <td>1</td>\n",
       "    </tr>\n",
       "    <tr>\n",
       "      <th>1496</th>\n",
       "      <td>31</td>\n",
       "      <td>0</td>\n",
       "      <td>33</td>\n",
       "      <td>0</td>\n",
       "      <td>1</td>\n",
       "      <td>2</td>\n",
       "      <td>2</td>\n",
       "      <td>1</td>\n",
       "      <td>1</td>\n",
       "    </tr>\n",
       "    <tr>\n",
       "      <th>1497</th>\n",
       "      <td>63</td>\n",
       "      <td>1</td>\n",
       "      <td>33</td>\n",
       "      <td>1</td>\n",
       "      <td>1</td>\n",
       "      <td>0</td>\n",
       "      <td>0</td>\n",
       "      <td>0</td>\n",
       "      <td>1</td>\n",
       "    </tr>\n",
       "    <tr>\n",
       "      <th>1498</th>\n",
       "      <td>55</td>\n",
       "      <td>0</td>\n",
       "      <td>26</td>\n",
       "      <td>0</td>\n",
       "      <td>0</td>\n",
       "      <td>8</td>\n",
       "      <td>2</td>\n",
       "      <td>1</td>\n",
       "      <td>1</td>\n",
       "    </tr>\n",
       "    <tr>\n",
       "      <th>1499</th>\n",
       "      <td>67</td>\n",
       "      <td>1</td>\n",
       "      <td>24</td>\n",
       "      <td>0</td>\n",
       "      <td>0</td>\n",
       "      <td>3</td>\n",
       "      <td>3</td>\n",
       "      <td>1</td>\n",
       "      <td>0</td>\n",
       "    </tr>\n",
       "  </tbody>\n",
       "</table>\n",
       "</div>"
      ],
      "text/plain": [
       "      Age  Gender  BMI  Smoking  GeneticRisk  PhysicalActivity  AlcoholIntake  \\\n",
       "1495   62       1   25        0            0                10              1   \n",
       "1496   31       0   33        0            1                 2              2   \n",
       "1497   63       1   33        1            1                 0              0   \n",
       "1498   55       0   26        0            0                 8              2   \n",
       "1499   67       1   24        0            0                 3              3   \n",
       "\n",
       "      CancerHistory  Diagnosis  \n",
       "1495              0          1  \n",
       "1496              1          1  \n",
       "1497              0          1  \n",
       "1498              1          1  \n",
       "1499              1          0  "
      ]
     },
     "execution_count": 4,
     "metadata": {},
     "output_type": "execute_result"
    }
   ],
   "source": [
    "cancer.tail()"
   ]
  },
  {
   "cell_type": "code",
   "execution_count": 5,
   "id": "c120dda1",
   "metadata": {},
   "outputs": [
    {
     "data": {
      "text/plain": [
       "(1500, 9)"
      ]
     },
     "execution_count": 5,
     "metadata": {},
     "output_type": "execute_result"
    }
   ],
   "source": [
    "cancer.shape"
   ]
  },
  {
   "cell_type": "code",
   "execution_count": 6,
   "id": "1fbc86f4",
   "metadata": {},
   "outputs": [
    {
     "name": "stdout",
     "output_type": "stream",
     "text": [
      "<class 'pandas.core.frame.DataFrame'>\n",
      "RangeIndex: 1500 entries, 0 to 1499\n",
      "Data columns (total 9 columns):\n",
      " #   Column            Non-Null Count  Dtype\n",
      "---  ------            --------------  -----\n",
      " 0   Age               1500 non-null   int64\n",
      " 1   Gender            1500 non-null   int64\n",
      " 2   BMI               1500 non-null   int64\n",
      " 3   Smoking           1500 non-null   int64\n",
      " 4   GeneticRisk       1500 non-null   int64\n",
      " 5   PhysicalActivity  1500 non-null   int64\n",
      " 6   AlcoholIntake     1500 non-null   int64\n",
      " 7   CancerHistory     1500 non-null   int64\n",
      " 8   Diagnosis         1500 non-null   int64\n",
      "dtypes: int64(9)\n",
      "memory usage: 105.6 KB\n"
     ]
    }
   ],
   "source": [
    "cancer.info()"
   ]
  },
  {
   "cell_type": "markdown",
   "id": "953f84e2",
   "metadata": {},
   "source": [
    "The Age are the integer values representing the patient's age, ranging from 20 to 80."
   ]
  },
  {
   "cell_type": "code",
   "execution_count": 7,
   "id": "564af4a3",
   "metadata": {},
   "outputs": [
    {
     "data": {
      "text/plain": [
       "array([1, 0], dtype=int64)"
      ]
     },
     "execution_count": 7,
     "metadata": {},
     "output_type": "execute_result"
    }
   ],
   "source": [
    "cancer[\"Gender\"].unique()"
   ]
  },
  {
   "cell_type": "markdown",
   "id": "9a287fef",
   "metadata": {},
   "source": [
    "Binary values representing gender, where 0 indicates Male and 1 indicates Female."
   ]
  },
  {
   "cell_type": "code",
   "execution_count": 8,
   "id": "60a27914",
   "metadata": {},
   "outputs": [
    {
     "data": {
      "text/plain": [
       "array([16, 31, 39, 30, 35, 37, 21, 20, 25, 36, 38, 24, 22, 26, 32, 17, 19,\n",
       "       33, 29, 27, 40, 18, 23, 28, 34, 15], dtype=int64)"
      ]
     },
     "execution_count": 8,
     "metadata": {},
     "output_type": "execute_result"
    }
   ],
   "source": [
    "cancer[\"BMI\"].unique()"
   ]
  },
  {
   "cell_type": "markdown",
   "id": "efc06723",
   "metadata": {},
   "source": [
    "Integer values representing Body Mass Index, ranging from 15 to 40."
   ]
  },
  {
   "cell_type": "code",
   "execution_count": 9,
   "id": "b171b902",
   "metadata": {},
   "outputs": [
    {
     "data": {
      "text/plain": [
       "array([0, 1], dtype=int64)"
      ]
     },
     "execution_count": 9,
     "metadata": {},
     "output_type": "execute_result"
    }
   ],
   "source": [
    "cancer[\"Smoking\"].unique()"
   ]
  },
  {
   "cell_type": "markdown",
   "id": "8a218a97",
   "metadata": {},
   "source": [
    "Binary values indicating smoking status, where 0 means No and 1 means Yes."
   ]
  },
  {
   "cell_type": "code",
   "execution_count": 10,
   "id": "b06b9026",
   "metadata": {},
   "outputs": [
    {
     "data": {
      "text/plain": [
       "array([1, 2, 0], dtype=int64)"
      ]
     },
     "execution_count": 10,
     "metadata": {},
     "output_type": "execute_result"
    }
   ],
   "source": [
    "cancer[\"GeneticRisk\"].unique()"
   ]
  },
  {
   "cell_type": "markdown",
   "id": "60ab13d6",
   "metadata": {},
   "source": [
    "Categorical values representing genetic risk levels for cancer, with 0 indicating Low, 1 indicating Medium, and 2 indicating High."
   ]
  },
  {
   "cell_type": "code",
   "execution_count": 11,
   "id": "2a448b5c",
   "metadata": {},
   "outputs": [
    {
     "data": {
      "text/plain": [
       "array([ 8,  9,  5, 10,  4,  3,  6,  2,  1,  0,  7], dtype=int64)"
      ]
     },
     "execution_count": 11,
     "metadata": {},
     "output_type": "execute_result"
    }
   ],
   "source": [
    "cancer[\"PhysicalActivity\"].unique()"
   ]
  },
  {
   "cell_type": "markdown",
   "id": "5dcf5a2b",
   "metadata": {},
   "source": [
    "Integer values representing the number of hours per week spent on physical activities, ranging from 0 to 10."
   ]
  },
  {
   "cell_type": "code",
   "execution_count": 12,
   "id": "c38db186",
   "metadata": {},
   "outputs": [
    {
     "data": {
      "text/plain": [
       "array([4, 5, 2, 3, 1, 0], dtype=int64)"
      ]
     },
     "execution_count": 12,
     "metadata": {},
     "output_type": "execute_result"
    }
   ],
   "source": [
    "cancer[\"AlcoholIntake\"].unique()"
   ]
  },
  {
   "cell_type": "markdown",
   "id": "10063955",
   "metadata": {},
   "source": [
    "Integer values representing the number of alcohol units consumed per week, ranging from 0 to 5."
   ]
  },
  {
   "cell_type": "code",
   "execution_count": 13,
   "id": "b6e3d5eb",
   "metadata": {},
   "outputs": [
    {
     "data": {
      "text/plain": [
       "array([1, 0], dtype=int64)"
      ]
     },
     "execution_count": 13,
     "metadata": {},
     "output_type": "execute_result"
    }
   ],
   "source": [
    "cancer[\"CancerHistory\"].unique()"
   ]
  },
  {
   "cell_type": "markdown",
   "id": "cf454acf",
   "metadata": {},
   "source": [
    "Binary values indicating whether the patient has a personal history of cancer, where 0 means No and 1 means Yes."
   ]
  },
  {
   "cell_type": "code",
   "execution_count": 14,
   "id": "c22a30bd",
   "metadata": {},
   "outputs": [
    {
     "data": {
      "text/plain": [
       "array([1, 0], dtype=int64)"
      ]
     },
     "execution_count": 14,
     "metadata": {},
     "output_type": "execute_result"
    }
   ],
   "source": [
    "cancer[\"Diagnosis\"].unique()"
   ]
  },
  {
   "cell_type": "markdown",
   "id": "1f0d3717",
   "metadata": {},
   "source": [
    "Binary values indicating the cancer diagnosis status, where 0 indicates No Cancer and 1 indicates Cancer."
   ]
  },
  {
   "cell_type": "markdown",
   "id": "f491ae50",
   "metadata": {},
   "source": [
    "Here Diagnosis is the final result and where the classification takes place."
   ]
  },
  {
   "cell_type": "code",
   "execution_count": 15,
   "id": "dae22a5d",
   "metadata": {
    "scrolled": true
   },
   "outputs": [
    {
     "data": {
      "text/plain": [
       "0    943\n",
       "1    557\n",
       "Name: Diagnosis, dtype: int64"
      ]
     },
     "execution_count": 15,
     "metadata": {},
     "output_type": "execute_result"
    }
   ],
   "source": [
    "cancer[\"Diagnosis\"].value_counts()"
   ]
  },
  {
   "cell_type": "markdown",
   "id": "bd790add",
   "metadata": {},
   "source": [
    "This indicates that from the dataset there are 943 cases on having no cancer and 557 cases on having cancer"
   ]
  },
  {
   "cell_type": "code",
   "execution_count": 16,
   "id": "141c98c3",
   "metadata": {
    "scrolled": true
   },
   "outputs": [
    {
     "data": {
      "text/html": [
       "<div>\n",
       "<style scoped>\n",
       "    .dataframe tbody tr th:only-of-type {\n",
       "        vertical-align: middle;\n",
       "    }\n",
       "\n",
       "    .dataframe tbody tr th {\n",
       "        vertical-align: top;\n",
       "    }\n",
       "\n",
       "    .dataframe thead th {\n",
       "        text-align: right;\n",
       "    }\n",
       "</style>\n",
       "<table border=\"1\" class=\"dataframe\">\n",
       "  <thead>\n",
       "    <tr style=\"text-align: right;\">\n",
       "      <th></th>\n",
       "      <th>Age</th>\n",
       "      <th>Gender</th>\n",
       "      <th>BMI</th>\n",
       "      <th>Smoking</th>\n",
       "      <th>GeneticRisk</th>\n",
       "      <th>PhysicalActivity</th>\n",
       "      <th>AlcoholIntake</th>\n",
       "      <th>CancerHistory</th>\n",
       "      <th>Diagnosis</th>\n",
       "    </tr>\n",
       "  </thead>\n",
       "  <tbody>\n",
       "    <tr>\n",
       "      <th>count</th>\n",
       "      <td>1500.000000</td>\n",
       "      <td>1500.000000</td>\n",
       "      <td>1500.000000</td>\n",
       "      <td>1500.000000</td>\n",
       "      <td>1500.000000</td>\n",
       "      <td>1500.00000</td>\n",
       "      <td>1500.000000</td>\n",
       "      <td>1500.000000</td>\n",
       "      <td>1500.000000</td>\n",
       "    </tr>\n",
       "    <tr>\n",
       "      <th>mean</th>\n",
       "      <td>50.320000</td>\n",
       "      <td>0.490667</td>\n",
       "      <td>27.526000</td>\n",
       "      <td>0.269333</td>\n",
       "      <td>0.508667</td>\n",
       "      <td>4.90200</td>\n",
       "      <td>2.414667</td>\n",
       "      <td>0.144000</td>\n",
       "      <td>0.371333</td>\n",
       "    </tr>\n",
       "    <tr>\n",
       "      <th>std</th>\n",
       "      <td>17.640968</td>\n",
       "      <td>0.500080</td>\n",
       "      <td>7.248012</td>\n",
       "      <td>0.443761</td>\n",
       "      <td>0.678895</td>\n",
       "      <td>2.87296</td>\n",
       "      <td>1.469294</td>\n",
       "      <td>0.351207</td>\n",
       "      <td>0.483322</td>\n",
       "    </tr>\n",
       "    <tr>\n",
       "      <th>min</th>\n",
       "      <td>20.000000</td>\n",
       "      <td>0.000000</td>\n",
       "      <td>15.000000</td>\n",
       "      <td>0.000000</td>\n",
       "      <td>0.000000</td>\n",
       "      <td>0.00000</td>\n",
       "      <td>0.000000</td>\n",
       "      <td>0.000000</td>\n",
       "      <td>0.000000</td>\n",
       "    </tr>\n",
       "    <tr>\n",
       "      <th>25%</th>\n",
       "      <td>35.000000</td>\n",
       "      <td>0.000000</td>\n",
       "      <td>21.000000</td>\n",
       "      <td>0.000000</td>\n",
       "      <td>0.000000</td>\n",
       "      <td>2.00000</td>\n",
       "      <td>1.000000</td>\n",
       "      <td>0.000000</td>\n",
       "      <td>0.000000</td>\n",
       "    </tr>\n",
       "    <tr>\n",
       "      <th>50%</th>\n",
       "      <td>51.000000</td>\n",
       "      <td>0.000000</td>\n",
       "      <td>28.000000</td>\n",
       "      <td>0.000000</td>\n",
       "      <td>0.000000</td>\n",
       "      <td>5.00000</td>\n",
       "      <td>2.000000</td>\n",
       "      <td>0.000000</td>\n",
       "      <td>0.000000</td>\n",
       "    </tr>\n",
       "    <tr>\n",
       "      <th>75%</th>\n",
       "      <td>66.000000</td>\n",
       "      <td>1.000000</td>\n",
       "      <td>34.000000</td>\n",
       "      <td>1.000000</td>\n",
       "      <td>1.000000</td>\n",
       "      <td>7.00000</td>\n",
       "      <td>4.000000</td>\n",
       "      <td>0.000000</td>\n",
       "      <td>1.000000</td>\n",
       "    </tr>\n",
       "    <tr>\n",
       "      <th>max</th>\n",
       "      <td>80.000000</td>\n",
       "      <td>1.000000</td>\n",
       "      <td>40.000000</td>\n",
       "      <td>1.000000</td>\n",
       "      <td>2.000000</td>\n",
       "      <td>10.00000</td>\n",
       "      <td>5.000000</td>\n",
       "      <td>1.000000</td>\n",
       "      <td>1.000000</td>\n",
       "    </tr>\n",
       "  </tbody>\n",
       "</table>\n",
       "</div>"
      ],
      "text/plain": [
       "               Age       Gender          BMI      Smoking  GeneticRisk  \\\n",
       "count  1500.000000  1500.000000  1500.000000  1500.000000  1500.000000   \n",
       "mean     50.320000     0.490667    27.526000     0.269333     0.508667   \n",
       "std      17.640968     0.500080     7.248012     0.443761     0.678895   \n",
       "min      20.000000     0.000000    15.000000     0.000000     0.000000   \n",
       "25%      35.000000     0.000000    21.000000     0.000000     0.000000   \n",
       "50%      51.000000     0.000000    28.000000     0.000000     0.000000   \n",
       "75%      66.000000     1.000000    34.000000     1.000000     1.000000   \n",
       "max      80.000000     1.000000    40.000000     1.000000     2.000000   \n",
       "\n",
       "       PhysicalActivity  AlcoholIntake  CancerHistory    Diagnosis  \n",
       "count        1500.00000    1500.000000    1500.000000  1500.000000  \n",
       "mean            4.90200       2.414667       0.144000     0.371333  \n",
       "std             2.87296       1.469294       0.351207     0.483322  \n",
       "min             0.00000       0.000000       0.000000     0.000000  \n",
       "25%             2.00000       1.000000       0.000000     0.000000  \n",
       "50%             5.00000       2.000000       0.000000     0.000000  \n",
       "75%             7.00000       4.000000       0.000000     1.000000  \n",
       "max            10.00000       5.000000       1.000000     1.000000  "
      ]
     },
     "execution_count": 16,
     "metadata": {},
     "output_type": "execute_result"
    }
   ],
   "source": [
    "cancer.describe()"
   ]
  },
  {
   "cell_type": "code",
   "execution_count": 17,
   "id": "69787cb8",
   "metadata": {
    "scrolled": true
   },
   "outputs": [
    {
     "data": {
      "text/plain": [
       "1"
      ]
     },
     "execution_count": 17,
     "metadata": {},
     "output_type": "execute_result"
    }
   ],
   "source": [
    "cancer.duplicated().sum()"
   ]
  },
  {
   "cell_type": "markdown",
   "id": "b66a0b3c",
   "metadata": {},
   "source": [
    "There are duplicates in the dataset."
   ]
  },
  {
   "cell_type": "code",
   "execution_count": 18,
   "id": "07afdb3c",
   "metadata": {},
   "outputs": [],
   "source": [
    "c1=cancer.drop_duplicates()"
   ]
  },
  {
   "cell_type": "code",
   "execution_count": 19,
   "id": "79782887",
   "metadata": {},
   "outputs": [
    {
     "data": {
      "text/plain": [
       "0"
      ]
     },
     "execution_count": 19,
     "metadata": {},
     "output_type": "execute_result"
    }
   ],
   "source": [
    "c1.duplicated().sum()"
   ]
  },
  {
   "cell_type": "code",
   "execution_count": 20,
   "id": "538560a5",
   "metadata": {},
   "outputs": [
    {
     "data": {
      "text/plain": [
       "Age                 0\n",
       "Gender              0\n",
       "BMI                 0\n",
       "Smoking             0\n",
       "GeneticRisk         0\n",
       "PhysicalActivity    0\n",
       "AlcoholIntake       0\n",
       "CancerHistory       0\n",
       "Diagnosis           0\n",
       "dtype: int64"
      ]
     },
     "execution_count": 20,
     "metadata": {},
     "output_type": "execute_result"
    }
   ],
   "source": [
    "c1.isnull().sum()"
   ]
  },
  {
   "cell_type": "code",
   "execution_count": 21,
   "id": "094aa322",
   "metadata": {},
   "outputs": [
    {
     "name": "stdout",
     "output_type": "stream",
     "text": [
      "<class 'pandas.core.frame.DataFrame'>\n",
      "Int64Index: 1499 entries, 0 to 1499\n",
      "Data columns (total 9 columns):\n",
      " #   Column            Non-Null Count  Dtype\n",
      "---  ------            --------------  -----\n",
      " 0   Age               1499 non-null   int64\n",
      " 1   Gender            1499 non-null   int64\n",
      " 2   BMI               1499 non-null   int64\n",
      " 3   Smoking           1499 non-null   int64\n",
      " 4   GeneticRisk       1499 non-null   int64\n",
      " 5   PhysicalActivity  1499 non-null   int64\n",
      " 6   AlcoholIntake     1499 non-null   int64\n",
      " 7   CancerHistory     1499 non-null   int64\n",
      " 8   Diagnosis         1499 non-null   int64\n",
      "dtypes: int64(9)\n",
      "memory usage: 117.1 KB\n"
     ]
    }
   ],
   "source": [
    "c1.info()"
   ]
  },
  {
   "cell_type": "markdown",
   "id": "6b60045d",
   "metadata": {},
   "source": [
    "Since are in intergers there is no need of encoding."
   ]
  },
  {
   "cell_type": "markdown",
   "id": "62649408",
   "metadata": {},
   "source": [
    "# Data Visualization"
   ]
  },
  {
   "cell_type": "code",
   "execution_count": 22,
   "id": "f4c3361d",
   "metadata": {},
   "outputs": [
    {
     "data": {
      "text/plain": [
       "<AxesSubplot:>"
      ]
     },
     "execution_count": 22,
     "metadata": {},
     "output_type": "execute_result"
    },
    {
     "data": {
      "image/png": "[encoded data removed]",
      "text/plain": [
       "<Figure size 640x480 with 1 Axes>"
      ]
     },
     "metadata": {},
     "output_type": "display_data"
    }
   ],
   "source": [
    "c1['Age'].hist()"
   ]
  },
  {
   "cell_type": "code",
   "execution_count": 23,
   "id": "040fcfb3",
   "metadata": {
    "scrolled": true
   },
   "outputs": [
    {
     "data": {
      "image/png": "[encoded data removed]",
      "text/plain": [
       "<Figure size 800x600 with 1 Axes>"
      ]
     },
     "metadata": {},
     "output_type": "display_data"
    }
   ],
   "source": [
    "gender_counts = c1[\"Gender\"].value_counts()\n",
    "plt.figure(figsize=(8, 6))  \n",
    "gender_counts.plot(kind=\"bar\", color=[\"skyblue\", \"lightcoral\"])\n",
    "plt.title(\"Gender Distribution\")\n",
    "plt.xlabel(\"Gender\")\n",
    "plt.ylabel(\"Count\")  \n",
    "plt.show()"
   ]
  },
  {
   "cell_type": "code",
   "execution_count": 24,
   "id": "6fdfa5dc",
   "metadata": {},
   "outputs": [
    {
     "data": {
      "text/plain": [
       "<AxesSubplot:>"
      ]
     },
     "execution_count": 24,
     "metadata": {},
     "output_type": "execute_result"
    },
    {
     "data": {
      "image/png": "[encoded data removed]",
      "text/plain": [
       "<Figure size 640x480 with 1 Axes>"
      ]
     },
     "metadata": {},
     "output_type": "display_data"
    }
   ],
   "source": [
    "c1['BMI'].hist()"
   ]
  },
  {
   "cell_type": "code",
   "execution_count": 25,
   "id": "4d31214e",
   "metadata": {},
   "outputs": [
    {
     "data": {
      "image/png": "[encoded data removed]",
      "text/plain": [
       "<Figure size 800x600 with 1 Axes>"
      ]
     },
     "metadata": {},
     "output_type": "display_data"
    }
   ],
   "source": [
    "smoking_counts = c1[\"Smoking\"].value_counts()\n",
    "plt.figure(figsize=(8, 6))  \n",
    "smoking_counts.plot(kind=\"bar\", color=[\"skyblue\", \"lightcoral\"])\n",
    "plt.title(\"Smoking\")\n",
    "plt.xlabel(\"Smoking\")\n",
    "plt.ylabel(\"Count\")  \n",
    "plt.show()"
   ]
  },
  {
   "cell_type": "code",
   "execution_count": 26,
   "id": "b9ca14ee",
   "metadata": {},
   "outputs": [
    {
     "data": {
      "image/png": "[encoded data removed]",
      "text/plain": [
       "<Figure size 800x600 with 1 Axes>"
      ]
     },
     "metadata": {},
     "output_type": "display_data"
    }
   ],
   "source": [
    "geneticrisk_counts = c1[\"GeneticRisk\"].value_counts()\n",
    "plt.figure(figsize=(8, 6))  \n",
    "geneticrisk_counts.plot(kind=\"bar\", color=[\"skyblue\", \"lightcoral\"])\n",
    "plt.title(\"GeneticRisk Distribution\")\n",
    "plt.xlabel(\"GeneticRisk\")\n",
    "plt.ylabel(\"Count\")  \n",
    "plt.show()"
   ]
  },
  {
   "cell_type": "code",
   "execution_count": 27,
   "id": "704aa6d9",
   "metadata": {},
   "outputs": [
    {
     "data": {
      "text/plain": [
       "<AxesSubplot:>"
      ]
     },
     "execution_count": 27,
     "metadata": {},
     "output_type": "execute_result"
    },
    {
     "data": {
      "image/png": "[encoded data removed]",
      "text/plain": [
       "<Figure size 640x480 with 1 Axes>"
      ]
     },
     "metadata": {},
     "output_type": "display_data"
    }
   ],
   "source": [
    "c1['PhysicalActivity'].hist()"
   ]
  },
  {
   "cell_type": "code",
   "execution_count": 28,
   "id": "f8e241ee",
   "metadata": {},
   "outputs": [
    {
     "data": {
      "text/plain": [
       "<AxesSubplot:>"
      ]
     },
     "execution_count": 28,
     "metadata": {},
     "output_type": "execute_result"
    },
    {
     "data": {
      "image/png": "[encoded data removed]",
      "text/plain": [
       "<Figure size 640x480 with 1 Axes>"
      ]
     },
     "metadata": {},
     "output_type": "display_data"
    }
   ],
   "source": [
    "c1['AlcoholIntake'].hist()"
   ]
  },
  {
   "cell_type": "code",
   "execution_count": 29,
   "id": "2c1b76ff",
   "metadata": {},
   "outputs": [
    {
     "data": {
      "image/png": "[encoded data removed]",
      "text/plain": [
       "<Figure size 800x600 with 1 Axes>"
      ]
     },
     "metadata": {},
     "output_type": "display_data"
    }
   ],
   "source": [
    "cancerhistory_counts = c1[\"CancerHistory\"].value_counts()\n",
    "plt.figure(figsize=(8, 6))  \n",
    "cancerhistory_counts.plot(kind=\"bar\", color=[\"skyblue\", \"lightcoral\"])\n",
    "plt.title(\"CancerHistory Distribution\")\n",
    "plt.xlabel(\"CancerHistory\")\n",
    "plt.ylabel(\"Count\")  \n",
    "plt.show()"
   ]
  },
  {
   "cell_type": "code",
   "execution_count": 30,
   "id": "661c9a72",
   "metadata": {},
   "outputs": [
    {
     "name": "stdout",
     "output_type": "stream",
     "text": [
      "<class 'pandas.core.frame.DataFrame'>\n",
      "Int64Index: 1499 entries, 0 to 1499\n",
      "Data columns (total 9 columns):\n",
      " #   Column            Non-Null Count  Dtype\n",
      "---  ------            --------------  -----\n",
      " 0   Age               1499 non-null   int64\n",
      " 1   Gender            1499 non-null   int64\n",
      " 2   BMI               1499 non-null   int64\n",
      " 3   Smoking           1499 non-null   int64\n",
      " 4   GeneticRisk       1499 non-null   int64\n",
      " 5   PhysicalActivity  1499 non-null   int64\n",
      " 6   AlcoholIntake     1499 non-null   int64\n",
      " 7   CancerHistory     1499 non-null   int64\n",
      " 8   Diagnosis         1499 non-null   int64\n",
      "dtypes: int64(9)\n",
      "memory usage: 117.1 KB\n"
     ]
    }
   ],
   "source": [
    "c1.info()"
   ]
  },
  {
   "cell_type": "markdown",
   "id": "f4d388ac",
   "metadata": {},
   "source": [
    "# Spliting"
   ]
  },
  {
   "cell_type": "code",
   "execution_count": 31,
   "id": "51047874",
   "metadata": {},
   "outputs": [],
   "source": [
    "x=c1.drop(\"Diagnosis\",axis=1)\n",
    "y=c1['Diagnosis']"
   ]
  },
  {
   "cell_type": "markdown",
   "id": "bb8e839a",
   "metadata": {},
   "source": [
    "In spliting, the attributes are divided to x and y where the target attribute is dropped from x and added to y"
   ]
  },
  {
   "cell_type": "markdown",
   "id": "362a7fe9",
   "metadata": {},
   "source": [
    "# Scaling"
   ]
  },
  {
   "cell_type": "code",
   "execution_count": 32,
   "id": "2468486c",
   "metadata": {},
   "outputs": [],
   "source": [
    "from sklearn.preprocessing import StandardScaler"
   ]
  },
  {
   "cell_type": "code",
   "execution_count": 33,
   "id": "0ebdd40b",
   "metadata": {},
   "outputs": [],
   "source": [
    "scaler=StandardScaler()"
   ]
  },
  {
   "cell_type": "code",
   "execution_count": 34,
   "id": "370f922d",
   "metadata": {},
   "outputs": [],
   "source": [
    "x_scaled = scaler.fit_transform(x)"
   ]
  },
  {
   "cell_type": "markdown",
   "id": "3bd16bd6",
   "metadata": {},
   "source": [
    "# Train, Test, and Spliting"
   ]
  },
  {
   "cell_type": "markdown",
   "id": "3bb6cebb",
   "metadata": {},
   "source": [
    "Here the dataset is divided into testing data and training data. The ratio is 20:80 (for testing to training)."
   ]
  },
  {
   "cell_type": "code",
   "execution_count": 35,
   "id": "34ba4f6d",
   "metadata": {},
   "outputs": [],
   "source": [
    "from sklearn.model_selection import train_test_split"
   ]
  },
  {
   "cell_type": "code",
   "execution_count": 36,
   "id": "39aa30f2",
   "metadata": {},
   "outputs": [],
   "source": [
    "x_train, x_test, y_train, y_test = train_test_split(x, y, test_size=0.2, random_state=42)"
   ]
  },
  {
   "cell_type": "code",
   "execution_count": 37,
   "id": "0524db1d",
   "metadata": {},
   "outputs": [
    {
     "data": {
      "text/html": [
       "<div>\n",
       "<style scoped>\n",
       "    .dataframe tbody tr th:only-of-type {\n",
       "        vertical-align: middle;\n",
       "    }\n",
       "\n",
       "    .dataframe tbody tr th {\n",
       "        vertical-align: top;\n",
       "    }\n",
       "\n",
       "    .dataframe thead th {\n",
       "        text-align: right;\n",
       "    }\n",
       "</style>\n",
       "<table border=\"1\" class=\"dataframe\">\n",
       "  <thead>\n",
       "    <tr style=\"text-align: right;\">\n",
       "      <th></th>\n",
       "      <th>Age</th>\n",
       "      <th>Gender</th>\n",
       "      <th>BMI</th>\n",
       "      <th>Smoking</th>\n",
       "      <th>GeneticRisk</th>\n",
       "      <th>PhysicalActivity</th>\n",
       "      <th>AlcoholIntake</th>\n",
       "      <th>CancerHistory</th>\n",
       "    </tr>\n",
       "  </thead>\n",
       "  <tbody>\n",
       "    <tr>\n",
       "      <th>382</th>\n",
       "      <td>44</td>\n",
       "      <td>0</td>\n",
       "      <td>29</td>\n",
       "      <td>0</td>\n",
       "      <td>0</td>\n",
       "      <td>7</td>\n",
       "      <td>4</td>\n",
       "      <td>0</td>\n",
       "    </tr>\n",
       "    <tr>\n",
       "      <th>538</th>\n",
       "      <td>61</td>\n",
       "      <td>0</td>\n",
       "      <td>18</td>\n",
       "      <td>0</td>\n",
       "      <td>1</td>\n",
       "      <td>5</td>\n",
       "      <td>5</td>\n",
       "      <td>0</td>\n",
       "    </tr>\n",
       "    <tr>\n",
       "      <th>1493</th>\n",
       "      <td>59</td>\n",
       "      <td>1</td>\n",
       "      <td>39</td>\n",
       "      <td>0</td>\n",
       "      <td>0</td>\n",
       "      <td>1</td>\n",
       "      <td>2</td>\n",
       "      <td>0</td>\n",
       "    </tr>\n",
       "    <tr>\n",
       "      <th>1113</th>\n",
       "      <td>22</td>\n",
       "      <td>1</td>\n",
       "      <td>37</td>\n",
       "      <td>0</td>\n",
       "      <td>0</td>\n",
       "      <td>4</td>\n",
       "      <td>2</td>\n",
       "      <td>0</td>\n",
       "    </tr>\n",
       "    <tr>\n",
       "      <th>324</th>\n",
       "      <td>60</td>\n",
       "      <td>0</td>\n",
       "      <td>28</td>\n",
       "      <td>0</td>\n",
       "      <td>0</td>\n",
       "      <td>9</td>\n",
       "      <td>5</td>\n",
       "      <td>0</td>\n",
       "    </tr>\n",
       "  </tbody>\n",
       "</table>\n",
       "</div>"
      ],
      "text/plain": [
       "      Age  Gender  BMI  Smoking  GeneticRisk  PhysicalActivity  AlcoholIntake  \\\n",
       "382    44       0   29        0            0                 7              4   \n",
       "538    61       0   18        0            1                 5              5   \n",
       "1493   59       1   39        0            0                 1              2   \n",
       "1113   22       1   37        0            0                 4              2   \n",
       "324    60       0   28        0            0                 9              5   \n",
       "\n",
       "      CancerHistory  \n",
       "382               0  \n",
       "538               0  \n",
       "1493              0  \n",
       "1113              0  \n",
       "324               0  "
      ]
     },
     "execution_count": 37,
     "metadata": {},
     "output_type": "execute_result"
    }
   ],
   "source": [
    "x_train.head()"
   ]
  },
  {
   "cell_type": "code",
   "execution_count": 38,
   "id": "222476ba",
   "metadata": {},
   "outputs": [
    {
     "data": {
      "text/html": [
       "<div>\n",
       "<style scoped>\n",
       "    .dataframe tbody tr th:only-of-type {\n",
       "        vertical-align: middle;\n",
       "    }\n",
       "\n",
       "    .dataframe tbody tr th {\n",
       "        vertical-align: top;\n",
       "    }\n",
       "\n",
       "    .dataframe thead th {\n",
       "        text-align: right;\n",
       "    }\n",
       "</style>\n",
       "<table border=\"1\" class=\"dataframe\">\n",
       "  <thead>\n",
       "    <tr style=\"text-align: right;\">\n",
       "      <th></th>\n",
       "      <th>Age</th>\n",
       "      <th>Gender</th>\n",
       "      <th>BMI</th>\n",
       "      <th>Smoking</th>\n",
       "      <th>GeneticRisk</th>\n",
       "      <th>PhysicalActivity</th>\n",
       "      <th>AlcoholIntake</th>\n",
       "      <th>CancerHistory</th>\n",
       "    </tr>\n",
       "  </thead>\n",
       "  <tbody>\n",
       "    <tr>\n",
       "      <th>1131</th>\n",
       "      <td>40</td>\n",
       "      <td>0</td>\n",
       "      <td>28</td>\n",
       "      <td>0</td>\n",
       "      <td>0</td>\n",
       "      <td>5</td>\n",
       "      <td>1</td>\n",
       "      <td>0</td>\n",
       "    </tr>\n",
       "    <tr>\n",
       "      <th>1295</th>\n",
       "      <td>25</td>\n",
       "      <td>0</td>\n",
       "      <td>39</td>\n",
       "      <td>1</td>\n",
       "      <td>0</td>\n",
       "      <td>5</td>\n",
       "      <td>4</td>\n",
       "      <td>0</td>\n",
       "    </tr>\n",
       "    <tr>\n",
       "      <th>860</th>\n",
       "      <td>58</td>\n",
       "      <td>0</td>\n",
       "      <td>40</td>\n",
       "      <td>0</td>\n",
       "      <td>0</td>\n",
       "      <td>9</td>\n",
       "      <td>3</td>\n",
       "      <td>0</td>\n",
       "    </tr>\n",
       "    <tr>\n",
       "      <th>1460</th>\n",
       "      <td>31</td>\n",
       "      <td>0</td>\n",
       "      <td>32</td>\n",
       "      <td>0</td>\n",
       "      <td>1</td>\n",
       "      <td>6</td>\n",
       "      <td>2</td>\n",
       "      <td>0</td>\n",
       "    </tr>\n",
       "    <tr>\n",
       "      <th>1127</th>\n",
       "      <td>47</td>\n",
       "      <td>0</td>\n",
       "      <td>22</td>\n",
       "      <td>1</td>\n",
       "      <td>0</td>\n",
       "      <td>5</td>\n",
       "      <td>2</td>\n",
       "      <td>0</td>\n",
       "    </tr>\n",
       "  </tbody>\n",
       "</table>\n",
       "</div>"
      ],
      "text/plain": [
       "      Age  Gender  BMI  Smoking  GeneticRisk  PhysicalActivity  AlcoholIntake  \\\n",
       "1131   40       0   28        0            0                 5              1   \n",
       "1295   25       0   39        1            0                 5              4   \n",
       "860    58       0   40        0            0                 9              3   \n",
       "1460   31       0   32        0            1                 6              2   \n",
       "1127   47       0   22        1            0                 5              2   \n",
       "\n",
       "      CancerHistory  \n",
       "1131              0  \n",
       "1295              0  \n",
       "860               0  \n",
       "1460              0  \n",
       "1127              0  "
      ]
     },
     "execution_count": 38,
     "metadata": {},
     "output_type": "execute_result"
    }
   ],
   "source": [
    "x_train.tail()"
   ]
  },
  {
   "cell_type": "code",
   "execution_count": 39,
   "id": "47413b4b",
   "metadata": {},
   "outputs": [
    {
     "data": {
      "text/plain": [
       "(1199, 8)"
      ]
     },
     "execution_count": 39,
     "metadata": {},
     "output_type": "execute_result"
    }
   ],
   "source": [
    "x_train.shape"
   ]
  },
  {
   "cell_type": "code",
   "execution_count": 40,
   "id": "39e81b6e",
   "metadata": {},
   "outputs": [
    {
     "data": {
      "text/plain": [
       "(1199,)"
      ]
     },
     "execution_count": 40,
     "metadata": {},
     "output_type": "execute_result"
    }
   ],
   "source": [
    "y_train.shape"
   ]
  },
  {
   "cell_type": "code",
   "execution_count": 41,
   "id": "251d1b2d",
   "metadata": {},
   "outputs": [
    {
     "data": {
      "text/plain": [
       "382     0\n",
       "538     0\n",
       "1493    1\n",
       "1113    0\n",
       "324     0\n",
       "Name: Diagnosis, dtype: int64"
      ]
     },
     "execution_count": 41,
     "metadata": {},
     "output_type": "execute_result"
    }
   ],
   "source": [
    "y_train.head()"
   ]
  },
  {
   "cell_type": "code",
   "execution_count": 42,
   "id": "43c278a7",
   "metadata": {},
   "outputs": [
    {
     "data": {
      "text/plain": [
       "1131    0\n",
       "1295    0\n",
       "860     0\n",
       "1460    1\n",
       "1127    0\n",
       "Name: Diagnosis, dtype: int64"
      ]
     },
     "execution_count": 42,
     "metadata": {},
     "output_type": "execute_result"
    }
   ],
   "source": [
    "y_train.tail()"
   ]
  },
  {
   "cell_type": "code",
   "execution_count": 43,
   "id": "89343c16",
   "metadata": {},
   "outputs": [
    {
     "data": {
      "text/plain": [
       "(300, 8)"
      ]
     },
     "execution_count": 43,
     "metadata": {},
     "output_type": "execute_result"
    }
   ],
   "source": [
    "x_test.shape"
   ]
  },
  {
   "cell_type": "code",
   "execution_count": 44,
   "id": "62a09e24",
   "metadata": {},
   "outputs": [
    {
     "data": {
      "text/plain": [
       "(300,)"
      ]
     },
     "execution_count": 44,
     "metadata": {},
     "output_type": "execute_result"
    }
   ],
   "source": [
    "y_test.shape"
   ]
  },
  {
   "cell_type": "markdown",
   "id": "4f72cb72",
   "metadata": {},
   "source": [
    "# Model Building"
   ]
  },
  {
   "cell_type": "markdown",
   "id": "9127abf7",
   "metadata": {},
   "source": [
    "# KNN Model"
   ]
  },
  {
   "cell_type": "code",
   "execution_count": 45,
   "id": "b5544e60",
   "metadata": {
    "scrolled": true
   },
   "outputs": [
    {
     "name": "stdout",
     "output_type": "stream",
     "text": [
      "*** KNeighborsClassifier ***\n",
      "Training Accuracy :  0.7889908256880734\n",
      "Testing Accuracy :  0.7\n",
      "Accuracy Score :  0.7\n",
      "** Confusion Matrix **\n",
      "[[166  27]\n",
      " [ 63  44]]\n",
      "** Classification Report **\n",
      "              precision    recall  f1-score   support\n",
      "\n",
      "           0       0.72      0.86      0.79       193\n",
      "           1       0.62      0.41      0.49       107\n",
      "\n",
      "    accuracy                           0.70       300\n",
      "   macro avg       0.67      0.64      0.64       300\n",
      "weighted avg       0.69      0.70      0.68       300\n",
      "\n"
     ]
    },
    {
     "name": "stderr",
     "output_type": "stream",
     "text": [
      "C:\\Users\\Harshini\\anaconda3\\lib\\site-packages\\sklearn\\neighbors\\_classification.py:228: FutureWarning: Unlike other reduction functions (e.g. `skew`, `kurtosis`), the default behavior of `mode` typically preserves the axis it acts along. In SciPy 1.11.0, this behavior will change: the default value of `keepdims` will become False, the `axis` over which the statistic is taken will be eliminated, and the value None will no longer be accepted. Set `keepdims` to True or False to avoid this warning.\n",
      "  mode, _ = stats.mode(_y[neigh_ind, k], axis=1)\n",
      "C:\\Users\\Harshini\\anaconda3\\lib\\site-packages\\sklearn\\neighbors\\_classification.py:228: FutureWarning: Unlike other reduction functions (e.g. `skew`, `kurtosis`), the default behavior of `mode` typically preserves the axis it acts along. In SciPy 1.11.0, this behavior will change: the default value of `keepdims` will become False, the `axis` over which the statistic is taken will be eliminated, and the value None will no longer be accepted. Set `keepdims` to True or False to avoid this warning.\n",
      "  mode, _ = stats.mode(_y[neigh_ind, k], axis=1)\n",
      "C:\\Users\\Harshini\\anaconda3\\lib\\site-packages\\sklearn\\neighbors\\_classification.py:228: FutureWarning: Unlike other reduction functions (e.g. `skew`, `kurtosis`), the default behavior of `mode` typically preserves the axis it acts along. In SciPy 1.11.0, this behavior will change: the default value of `keepdims` will become False, the `axis` over which the statistic is taken will be eliminated, and the value None will no longer be accepted. Set `keepdims` to True or False to avoid this warning.\n",
      "  mode, _ = stats.mode(_y[neigh_ind, k], axis=1)\n"
     ]
    }
   ],
   "source": [
    "from sklearn.neighbors import KNeighborsClassifier\n",
    "from sklearn.metrics import accuracy_score,confusion_matrix,classification_report\n",
    "knn1=KNeighborsClassifier()\n",
    "knn1.fit(x_train,y_train)\n",
    "predict_knn1=knn1.predict(x_test)\n",
    "training_accuracy=knn1.score(x_train,y_train)\n",
    "testing_accuracy=knn1.score(x_test,y_test)\n",
    "print(\"*** KNeighborsClassifier ***\")\n",
    "print(\"Training Accuracy : \",training_accuracy)\n",
    "print(\"Testing Accuracy : \",testing_accuracy)\n",
    "print(\"Accuracy Score : \",accuracy_score(y_test,predict_knn1))\n",
    "print(\"** Confusion Matrix **\")\n",
    "print(confusion_matrix(y_test,predict_knn1))\n",
    "print(\"** Classification Report **\")\n",
    "print(classification_report(y_test,predict_knn1))"
   ]
  },
  {
   "cell_type": "markdown",
   "id": "9df2443c",
   "metadata": {},
   "source": [
    "# Logistic Regression"
   ]
  },
  {
   "cell_type": "code",
   "execution_count": 46,
   "id": "fb00f120",
   "metadata": {
    "scrolled": true
   },
   "outputs": [
    {
     "name": "stdout",
     "output_type": "stream",
     "text": [
      "*** Logistic Regression ***\n",
      "Training Accuracy :  0.8507089241034195\n",
      "Testing Accuracy :  0.86\n",
      "Accuracy Score :  0.86\n",
      "** Confusion Matrix **\n",
      "[[174  19]\n",
      " [ 23  84]]\n",
      "** Classification Report **\n",
      "              precision    recall  f1-score   support\n",
      "\n",
      "           0       0.88      0.90      0.89       193\n",
      "           1       0.82      0.79      0.80       107\n",
      "\n",
      "    accuracy                           0.86       300\n",
      "   macro avg       0.85      0.84      0.85       300\n",
      "weighted avg       0.86      0.86      0.86       300\n",
      "\n"
     ]
    }
   ],
   "source": [
    "from sklearn.linear_model import LogisticRegression\n",
    "def Logistic(x_train, x_test, y_train, y_test):\n",
    "    lgr = LogisticRegression(max_iter=1000)  # Increase max_iter\n",
    "    logistic = lgr.fit(x_train, y_train)\n",
    "    predict_logistic = logistic.predict(x_test)\n",
    "    training_accuracy = logistic.score(x_train, y_train)\n",
    "    testing_accuracy = logistic.score(x_test, y_test)\n",
    "    print(\"*** Logistic Regression ***\")\n",
    "    print(\"Training Accuracy : \", training_accuracy)\n",
    "    print(\"Testing Accuracy : \", testing_accuracy)\n",
    "    print(\"Accuracy Score : \", accuracy_score(y_test, predict_logistic))\n",
    "    print(\"** Confusion Matrix **\")\n",
    "    print(confusion_matrix(y_test, predict_logistic))\n",
    "    print(\"** Classification Report **\")\n",
    "    print(classification_report(y_test, predict_logistic))\n",
    "Logistic(x_train, x_test, y_train, y_test)"
   ]
  },
  {
   "cell_type": "markdown",
   "id": "9412a44d",
   "metadata": {},
   "source": [
    "# Random Forest "
   ]
  },
  {
   "cell_type": "code",
   "execution_count": 47,
   "id": "d66d49f2",
   "metadata": {},
   "outputs": [
    {
     "name": "stdout",
     "output_type": "stream",
     "text": [
      "*** Random Forest ***\n",
      "Training Accuracy :  1.0\n",
      "Testing Accuracy :  0.91\n",
      "Accuracy Score :  0.91\n",
      "** Confusion Matrix **\n",
      "[[180  13]\n",
      " [ 14  93]]\n",
      "** Classification Report **\n",
      "              precision    recall  f1-score   support\n",
      "\n",
      "           0       0.93      0.93      0.93       193\n",
      "           1       0.88      0.87      0.87       107\n",
      "\n",
      "    accuracy                           0.91       300\n",
      "   macro avg       0.90      0.90      0.90       300\n",
      "weighted avg       0.91      0.91      0.91       300\n",
      "\n"
     ]
    }
   ],
   "source": [
    "from sklearn.ensemble import RandomForestClassifier\n",
    "rdf=RandomForestClassifier()\n",
    "def Random_Forest(x_train,x_test,y_train,y_test):\n",
    "    radf=RandomForestClassifier()\n",
    "    radf.fit(x_train,y_train)\n",
    "    predict_random=radf.predict(x_test)\n",
    "    training_accuracy=radf.score(x_train,y_train)\n",
    "    testing_accuracy=radf.score(x_test,y_test)\n",
    "    print(\"*** Random Forest ***\")\n",
    "    print(\"Training Accuracy : \",training_accuracy)\n",
    "    print(\"Testing Accuracy : \",testing_accuracy)\n",
    "    print(\"Accuracy Score : \",accuracy_score(y_test, predict_random))\n",
    "    print(\"** Confusion Matrix **\")\n",
    "    print(confusion_matrix(y_test, predict_random))\n",
    "    print(\"** Classification Report **\")\n",
    "    print(classification_report(y_test, predict_random))\n",
    "Random_Forest(x_train,x_test,y_train,y_test)"
   ]
  },
  {
   "cell_type": "markdown",
   "id": "be5a407f",
   "metadata": {},
   "source": [
    "# Decision Tree"
   ]
  },
  {
   "cell_type": "code",
   "execution_count": 48,
   "id": "18d69e49",
   "metadata": {},
   "outputs": [
    {
     "name": "stdout",
     "output_type": "stream",
     "text": [
      "*** Decision Tree Classifier ***\n",
      "Training Accuracy: 0.7931609674728941\n",
      "Testing Accuracy: 0.7633333333333333\n",
      "Accuracy Score: 0.7633333333333333\n",
      "** Confusion Matrix **\n",
      "[[182  11]\n",
      " [ 60  47]]\n",
      "** Classification Report **\n",
      "              precision    recall  f1-score   support\n",
      "\n",
      "           0       0.75      0.94      0.84       193\n",
      "           1       0.81      0.44      0.57       107\n",
      "\n",
      "    accuracy                           0.76       300\n",
      "   macro avg       0.78      0.69      0.70       300\n",
      "weighted avg       0.77      0.76      0.74       300\n",
      "\n"
     ]
    }
   ],
   "source": [
    "from sklearn.tree import DecisionTreeClassifier\n",
    "from sklearn.metrics import accuracy_score, confusion_matrix, classification_report\n",
    "def DecisionTree(x_train, x_test, y_train, y_test):\n",
    "    dt_classifier = DecisionTreeClassifier(criterion='entropy', max_depth=3)\n",
    "    decision_tree = dt_classifier.fit(x_train, y_train)\n",
    "    predict_decision_tree = decision_tree.predict(x_test)\n",
    "    training_accuracy = decision_tree.score(x_train, y_train)\n",
    "    testing_accuracy = decision_tree.score(x_test, y_test)\n",
    "\n",
    "    print(\"*** Decision Tree Classifier ***\")\n",
    "    print(\"Training Accuracy:\", training_accuracy)\n",
    "    print(\"Testing Accuracy:\", testing_accuracy)\n",
    "    print(\"Accuracy Score:\", accuracy_score(y_test, predict_decision_tree))\n",
    "    print(\"** Confusion Matrix **\")\n",
    "    print(confusion_matrix(y_test, predict_decision_tree))\n",
    "    print(\"** Classification Report **\")\n",
    "    print(classification_report(y_test, predict_decision_tree))\n",
    "\n",
    "# Example usage:\n",
    "DecisionTree(x_train, x_test, y_train, y_test)\n"
   ]
  },
  {
   "cell_type": "markdown",
   "id": "3f89fc42",
   "metadata": {},
   "source": [
    "# Cross Validation"
   ]
  },
  {
   "cell_type": "code",
   "execution_count": 49,
   "id": "0fad5b41",
   "metadata": {
    "scrolled": true
   },
   "outputs": [
    {
     "name": "stdout",
     "output_type": "stream",
     "text": [
      "*** Logistic Regression ***\n",
      "Training Accuracy :  0.8507089241034195\n",
      "Testing Accuracy :  0.86\n",
      "Accuracy Score :  0.86\n",
      "** Confusion Matrix **\n",
      "[[174  19]\n",
      " [ 23  84]]\n",
      "** Classification Report **\n",
      "              precision    recall  f1-score   support\n",
      "\n",
      "           0       0.88      0.90      0.89       193\n",
      "           1       0.82      0.79      0.80       107\n",
      "\n",
      "    accuracy                           0.86       300\n",
      "   macro avg       0.85      0.84      0.85       300\n",
      "weighted avg       0.86      0.86      0.86       300\n",
      "\n"
     ]
    }
   ],
   "source": [
    "from sklearn.linear_model import LogisticRegression\n",
    "def Logistic(x_train, x_test, y_train, y_test):\n",
    "    lgr = LogisticRegression(max_iter=1000)  # Increase max_iter\n",
    "    logistic = lgr.fit(x_train, y_train)\n",
    "    predict_logistic = logistic.predict(x_test)\n",
    "    training_accuracy = logistic.score(x_train, y_train)\n",
    "    testing_accuracy = logistic.score(x_test, y_test)\n",
    "    print(\"*** Logistic Regression ***\")\n",
    "    print(\"Training Accuracy : \", training_accuracy)\n",
    "    print(\"Testing Accuracy : \", testing_accuracy)\n",
    "    print(\"Accuracy Score : \", accuracy_score(y_test, predict_logistic))\n",
    "    print(\"** Confusion Matrix **\")\n",
    "    print(confusion_matrix(y_test, predict_logistic))\n",
    "    print(\"** Classification Report **\")\n",
    "    print(classification_report(y_test, predict_logistic))\n",
    "Logistic(x_train, x_test, y_train, y_test)"
   ]
  },
  {
   "cell_type": "markdown",
   "id": "c3b09929",
   "metadata": {},
   "source": [
    "Based on these metrics, Random Forest appears to be the best-performing model due to its highest testing accuracy, good balance between precision and recall, and the highest cross-validation mean accuracy."
   ]
  },
  {
   "cell_type": "markdown",
   "id": "f6d222c4",
   "metadata": {},
   "source": [
    "# Hypertuning"
   ]
  },
  {
   "cell_type": "code",
   "execution_count": 50,
   "id": "46be9ecc",
   "metadata": {},
   "outputs": [
    {
     "name": "stdout",
     "output_type": "stream",
     "text": [
      "Best Parameters: {'max_depth': None, 'min_samples_leaf': 2, 'min_samples_split': 10, 'n_estimators': 50}\n",
      "Best Cross-Validation Accuracy: 0.922526198439242\n"
     ]
    }
   ],
   "source": [
    "from sklearn.model_selection import GridSearchCV\n",
    "from sklearn.ensemble import RandomForestClassifier\n",
    "\n",
    "param_grid = {\n",
    "    'n_estimators': [50, 100, 200],\n",
    "    'max_depth': [None, 10, 20, 30],\n",
    "    'min_samples_split': [2, 5, 10],\n",
    "    'min_samples_leaf': [1, 2, 4]\n",
    "}\n",
    "\n",
    "rf = RandomForestClassifier()\n",
    "grid_search = GridSearchCV(estimator=rf, param_grid=param_grid, cv=5, scoring='accuracy')\n",
    "grid_search.fit(x, y)\n",
    "\n",
    "print(\"Best Parameters:\", grid_search.best_params_)\n",
    "print(\"Best Cross-Validation Accuracy:\", grid_search.best_score_)\n"
   ]
  },
  {
   "cell_type": "code",
   "execution_count": 51,
   "id": "51e2d641",
   "metadata": {},
   "outputs": [
    {
     "name": "stdout",
     "output_type": "stream",
     "text": [
      "Accuracy: 0.9233333333333333\n",
      "Confusion Matrix:\n",
      " [[183  10]\n",
      " [ 13  94]]\n",
      "Classification Report:\n",
      "               precision    recall  f1-score   support\n",
      "\n",
      "           0       0.93      0.95      0.94       193\n",
      "           1       0.90      0.88      0.89       107\n",
      "\n",
      "    accuracy                           0.92       300\n",
      "   macro avg       0.92      0.91      0.92       300\n",
      "weighted avg       0.92      0.92      0.92       300\n",
      "\n"
     ]
    }
   ],
   "source": [
    "from sklearn.ensemble import RandomForestClassifier\n",
    "from sklearn.metrics import accuracy_score, confusion_matrix, classification_report\n",
    "\n",
    "# Train the final model\n",
    "final_model = RandomForestClassifier(max_depth=10, min_samples_leaf=1, min_samples_split=10, n_estimators=50)\n",
    "final_model.fit(x_train, y_train)\n",
    "\n",
    "# Evaluate the model on the test set\n",
    "y_pred = final_model.predict(x_test)\n",
    "\n",
    "# Print evaluation metrics\n",
    "print(\"Accuracy:\", accuracy_score(y_test, y_pred))\n",
    "print(\"Confusion Matrix:\\n\", confusion_matrix(y_test, y_pred))\n",
    "print(\"Classification Report:\\n\", classification_report(y_test, y_pred))\n"
   ]
  },
  {
   "cell_type": "code",
   "execution_count": 52,
   "id": "7a406d2e",
   "metadata": {},
   "outputs": [
    {
     "name": "stdout",
     "output_type": "stream",
     "text": [
      "[1]\n"
     ]
    }
   ],
   "source": [
    "Age = 38\n",
    "Gender = 1\n",
    "BMI = 36\n",
    "Smoking = 0\n",
    "GeneticRisk = 2\n",
    "PhysicalActivity = 8\n",
    "AlcoholIntake = 3\n",
    "CancerHistory = 0\n",
    "names = [Age, Gender, BMI, Smoking, GeneticRisk, PhysicalActivity, AlcoholIntake, CancerHistory]\n",
    "input_features = pd.DataFrame([names], columns=x_train.columns)  # Ensure the input has valid feature names\n",
    "prediction = final_model.predict(input_features)\n",
    "print(prediction)"
   ]
  },
  {
   "cell_type": "markdown",
   "id": "e4dfb406",
   "metadata": {},
   "source": [
    "# Saving"
   ]
  },
  {
   "cell_type": "code",
   "execution_count": 53,
   "id": "a8c14847",
   "metadata": {},
   "outputs": [],
   "source": [
    "import pickle \n",
    "with open(\"randmf.pkl\", 'wb') as file:\n",
    "    pickle.dump(final_model, file)"
   ]
  },
  {
   "cell_type": "code",
   "execution_count": null,
   "id": "46c42141",
   "metadata": {},
   "outputs": [],
   "source": []
  },
  {
   "cell_type": "code",
   "execution_count": null,
   "id": "57b38439",
   "metadata": {},
   "outputs": [],
   "source": []
  },
  {
   "cell_type": "code",
   "execution_count": null,
   "id": "f99e21f5",
   "metadata": {},
   "outputs": [],
   "source": []
  }
 ],
 "metadata": {
  "kernelspec": {
   "display_name": "Python 3 (ipykernel)",
   "language": "python",
   "name": "python3"
  },
  "language_info": {
   "codemirror_mode": {
    "name": "ipython",
    "version": 3
   },
   "file_extension": ".py",
   "mimetype": "text/x-python",
   "name": "python",
   "nbconvert_exporter": "python",
   "pygments_lexer": "ipython3",
   "version": "3.9.13"
  }
 },
 "nbformat": 4,
 "nbformat_minor": 5
}
